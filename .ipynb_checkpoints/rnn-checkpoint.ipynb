{
 "cells": [
  {
   "cell_type": "code",
   "execution_count": 1,
   "id": "92f2a671",
   "metadata": {},
   "outputs": [],
   "source": [
    "import numpy as np\n",
    "import matplotlib.pyplot as plt\n",
    "import seaborn as sns\n",
    "import pandas as pd\n",
    "\n",
    "from scipy import stats\n",
    "from keras.datasets import imdb\n",
    "from keras_preprocessing.sequence import pad_sequences\n",
    "from keras.models import Sequential\n",
    "from keras.layers import Embedding, SimpleRNN, Dense, Activation"
   ]
  },
  {
   "cell_type": "code",
   "execution_count": 2,
   "id": "3220c4b4",
   "metadata": {},
   "outputs": [],
   "source": [
    "(X_train, Y_train),(X_test, Y_test) = imdb.load_data(path= \"imdb.npz\",\n",
    "                                      num_words= None, # tüm kelmieleri alıyoruz bu şekilde sayı verseydik en çok kullanılan istenilen sayıda kelimeyi verecekti.\n",
    "                                      skip_top= 0,  # en sık kullanılan kelimeleri göz ardı etmemeyi seçtik\n",
    "                                      maxlen= None,  # çok uzun bir metni istenilen kelime saysısı kadar kırpabiliriz bu parametre ile.\n",
    "                                      seed = 113,    # random_state ile aynı işleve yarıyor shuffle sırasında karıştırma oranını sabit tutuyoruz keras dökümantasyonunda 113 kullanılıdığı için öyle seçtik\n",
    "                                      start_char= 1, # metine başlanacak karakter keras dökümantasyonunda 1 önerilmiş\n",
    "                                      oov_char= 2,   # default\n",
    "                                      index_from= 3) # default"
   ]
  },
  {
   "cell_type": "code",
   "execution_count": 3,
   "id": "166d9ffe",
   "metadata": {},
   "outputs": [
    {
     "name": "stdout",
     "output_type": "stream",
     "text": [
      "(25000,)\n",
      "(25000,)\n",
      "(25000,)\n",
      "(25000,)\n",
      "Type:  <class 'numpy.ndarray'>\n"
     ]
    }
   ],
   "source": [
    "print(X_train.shape)\n",
    "print(Y_train.shape)\n",
    "print(X_test.shape)\n",
    "print(Y_test.shape)\n",
    "print(\"Type: \", type(X_train))"
   ]
  },
  {
   "cell_type": "markdown",
   "id": "628e6f75",
   "metadata": {},
   "source": [
    "### EDA"
   ]
  },
  {
   "cell_type": "code",
   "execution_count": 4,
   "id": "6a8acff0",
   "metadata": {},
   "outputs": [
    {
     "name": "stdout",
     "output_type": "stream",
     "text": [
      "Y train values:  [0 1]\n",
      "Y test values :  [0 1]\n"
     ]
    }
   ],
   "source": [
    "print(\"Y train values: \", np.unique(Y_train))\n",
    "print(\"Y test values : \", np.unique(Y_test))"
   ]
  },
  {
   "cell_type": "code",
   "execution_count": 5,
   "id": "c6b3cdb0",
   "metadata": {},
   "outputs": [
    {
     "name": "stdout",
     "output_type": "stream",
     "text": [
      "Y train distribution:  {0: 12500, 1: 12500}\n",
      "Y test distribution:  {0: 12500, 1: 12500}\n"
     ]
    }
   ],
   "source": [
    "unique, counts= np.unique(Y_train, return_counts= True)\n",
    "print(\"Y train distribution: \", dict(zip(unique, counts)))\n",
    "\n",
    "unique, counts= np.unique(Y_test, return_counts= True)\n",
    "print(\"Y test distribution: \", dict(zip(unique, counts)))"
   ]
  },
  {
   "cell_type": "code",
   "execution_count": 6,
   "id": "67b5701a",
   "metadata": {},
   "outputs": [],
   "source": [
    "d= X_train[0]\n",
    "\n",
    "review_len_train= []\n",
    "review_len_test = []\n",
    "\n",
    "for i, ii in zip(X_train, X_test):\n",
    "    review_len_train.append(len(i))\n",
    "    review_len_test.append(len(ii))"
   ]
  },
  {
   "cell_type": "code",
   "execution_count": 7,
   "id": "2f52d3d2",
   "metadata": {},
   "outputs": [
    {
     "data": {
      "text/html": [
       "<div>\n",
       "<style scoped>\n",
       "    .dataframe tbody tr th:only-of-type {\n",
       "        vertical-align: middle;\n",
       "    }\n",
       "\n",
       "    .dataframe tbody tr th {\n",
       "        vertical-align: top;\n",
       "    }\n",
       "\n",
       "    .dataframe thead th {\n",
       "        text-align: right;\n",
       "    }\n",
       "</style>\n",
       "<table border=\"1\" class=\"dataframe\">\n",
       "  <thead>\n",
       "    <tr style=\"text-align: right;\">\n",
       "      <th></th>\n",
       "      <th>0</th>\n",
       "    </tr>\n",
       "  </thead>\n",
       "  <tbody>\n",
       "    <tr>\n",
       "      <th>7301</th>\n",
       "      <td>11</td>\n",
       "    </tr>\n",
       "    <tr>\n",
       "      <th>6719</th>\n",
       "      <td>11</td>\n",
       "    </tr>\n",
       "    <tr>\n",
       "      <th>12759</th>\n",
       "      <td>12</td>\n",
       "    </tr>\n",
       "    <tr>\n",
       "      <th>17904</th>\n",
       "      <td>13</td>\n",
       "    </tr>\n",
       "    <tr>\n",
       "      <th>13879</th>\n",
       "      <td>13</td>\n",
       "    </tr>\n",
       "    <tr>\n",
       "      <th>...</th>\n",
       "      <td>...</td>\n",
       "    </tr>\n",
       "    <tr>\n",
       "      <th>2453</th>\n",
       "      <td>1629</td>\n",
       "    </tr>\n",
       "    <tr>\n",
       "      <th>9157</th>\n",
       "      <td>1733</td>\n",
       "    </tr>\n",
       "    <tr>\n",
       "      <th>3972</th>\n",
       "      <td>1851</td>\n",
       "    </tr>\n",
       "    <tr>\n",
       "      <th>13494</th>\n",
       "      <td>1854</td>\n",
       "    </tr>\n",
       "    <tr>\n",
       "      <th>17934</th>\n",
       "      <td>2494</td>\n",
       "    </tr>\n",
       "  </tbody>\n",
       "</table>\n",
       "<p>25000 rows × 1 columns</p>\n",
       "</div>"
      ],
      "text/plain": [
       "          0\n",
       "7301     11\n",
       "6719     11\n",
       "12759    12\n",
       "17904    13\n",
       "13879    13\n",
       "...     ...\n",
       "2453   1629\n",
       "9157   1733\n",
       "3972   1851\n",
       "13494  1854\n",
       "17934  2494\n",
       "\n",
       "[25000 rows x 1 columns]"
      ]
     },
     "execution_count": 7,
     "metadata": {},
     "output_type": "execute_result"
    }
   ],
   "source": [
    "df= pd.DataFrame(review_len_train)\n",
    "df.sort_values(0)"
   ]
  },
  {
   "cell_type": "code",
   "execution_count": 8,
   "id": "4274e31c",
   "metadata": {
    "scrolled": true
   },
   "outputs": [
    {
     "name": "stderr",
     "output_type": "stream",
     "text": [
      "C:\\Users\\EBRU\\AppData\\Local\\Temp\\ipykernel_15760\\1597894238.py:1: UserWarning: \n",
      "\n",
      "`distplot` is a deprecated function and will be removed in seaborn v0.14.0.\n",
      "\n",
      "Please adapt your code to use either `displot` (a figure-level function with\n",
      "similar flexibility) or `histplot` (an axes-level function for histograms).\n",
      "\n",
      "For a guide to updating your code to use the new functions, please see\n",
      "https://gist.github.com/mwaskom/de44147ed2974457ad6372750bbe5751\n",
      "\n",
      "  sns.distplot(review_len_train, hist_kws= {\"alpha\": 0.1})\n",
      "C:\\Users\\EBRU\\AppData\\Local\\Temp\\ipykernel_15760\\1597894238.py:2: UserWarning: \n",
      "\n",
      "`distplot` is a deprecated function and will be removed in seaborn v0.14.0.\n",
      "\n",
      "Please adapt your code to use either `displot` (a figure-level function with\n",
      "similar flexibility) or `histplot` (an axes-level function for histograms).\n",
      "\n",
      "For a guide to updating your code to use the new functions, please see\n",
      "https://gist.github.com/mwaskom/de44147ed2974457ad6372750bbe5751\n",
      "\n",
      "  sns.distplot(review_len_test, hist_kws= {\"alpha\": 0.3})\n"
     ]
    },
    {
     "data": {
      "text/plain": [
       "<AxesSubplot:ylabel='Density'>"
      ]
     },
     "execution_count": 8,
     "metadata": {},
     "output_type": "execute_result"
    },
    {
     "data": {
      "image/png": "[encoded data removed]",
      "text/plain": [
       "<Figure size 640x480 with 1 Axes>"
      ]
     },
     "metadata": {},
     "output_type": "display_data"
    }
   ],
   "source": [
    "sns.distplot(review_len_train, hist_kws= {\"alpha\": 0.1})\n",
    "sns.distplot(review_len_test, hist_kws= {\"alpha\": 0.3})"
   ]
  },
  {
   "cell_type": "code",
   "execution_count": 9,
   "id": "317ade36",
   "metadata": {},
   "outputs": [
    {
     "name": "stdout",
     "output_type": "stream",
     "text": [
      "Train mean:  238.71364\n",
      "Train median:  178.0\n",
      "Train mode:  ModeResult(mode=array([132]), count=array([196]))\n"
     ]
    }
   ],
   "source": [
    "print(\"Train mean: \", np.mean(review_len_train))\n",
    "print(\"Train median: \", np.median(review_len_train))\n",
    "print(\"Train mode: \", stats.mode(review_len_train))"
   ]
  },
  {
   "cell_type": "markdown",
   "id": "e8d31d48",
   "metadata": {},
   "source": [
    "Yorumlar üzerinde inceleme yapabilmek için her yorumun sabit sayıda kelime içermesi gerekir. Burada train modunun 132 olduğunu yani en çok tekrar eden kelime sayısının 132 oluğunu anlıyoruz. Şimdi kelime sayısı çok olan yorumlar azaltılacak, kelime sayısı az olan yorumlar ise doldurulacak ve bir değerde sabitlenecek."
   ]
  },
  {
   "cell_type": "code",
   "execution_count": 10,
   "id": "ab316399",
   "metadata": {},
   "outputs": [
    {
     "name": "stdout",
     "output_type": "stream",
     "text": [
      "<class 'dict'>\n"
     ]
    },
    {
     "data": {
      "text/plain": [
       "88584"
      ]
     },
     "execution_count": 10,
     "metadata": {},
     "output_type": "execute_result"
    }
   ],
   "source": [
    "# number of words\n",
    "word_index = imdb.get_word_index()\n",
    "print(type(word_index))\n",
    "len(word_index)\n",
    "#word_index.items()"
   ]
  },
  {
   "cell_type": "code",
   "execution_count": 11,
   "id": "b8935957",
   "metadata": {},
   "outputs": [
    {
     "name": "stdout",
     "output_type": "stream",
     "text": [
      "you\n"
     ]
    }
   ],
   "source": [
    "for keys, values in word_index.items():\n",
    "    if values == 22:\n",
    "        print(keys)"
   ]
  },
  {
   "cell_type": "code",
   "execution_count": 12,
   "id": "3acca4c0",
   "metadata": {},
   "outputs": [
    {
     "name": "stdout",
     "output_type": "stream",
     "text": [
      "! big hair big boobs bad music and a giant safety pin these are the words to best describe this terrible movie i love cheesy horror movies and i've seen hundreds but this had got to be on of the worst ever made the plot is paper thin and ridiculous the acting is an abomination the script is completely laughable the best is the end showdown with the cop and how he worked out who the killer is it's just so damn terribly written the clothes are sickening and funny in equal measures the hair is big lots of boobs bounce men wear those cut tee shirts that show off their stomachs sickening that men actually wore them and the music is just synthesiser trash that plays over and over again in almost every scene there is trashy music boobs and paramedics taking away bodies and the gym still doesn't close for bereavement all joking aside this is a truly bad film whose only charm is to look back on the disaster that was the 80's and have a good old laugh at how bad everything was back then\n",
      "0\n"
     ]
    }
   ],
   "source": [
    "def whatItSay(index = 24):\n",
    "    reverse_index= dict([(value, key) for (key, value) in word_index.items()])\n",
    "    #print(reverse_index)\n",
    "    decode_review= \" \".join([reverse_index.get(i-3, \"!\") for i in X_train[index]])\n",
    "    print(decode_review)\n",
    "    print(Y_train[index])\n",
    "    return decode_review\n",
    "\n",
    "decoded_review = whatItSay(1)"
   ]
  },
  {
   "cell_type": "markdown",
   "id": "bb3b4751",
   "metadata": {},
   "source": [
    "### Preprocessing"
   ]
  },
  {
   "cell_type": "code",
   "execution_count": 13,
   "id": "d23e2c37",
   "metadata": {},
   "outputs": [],
   "source": [
    "num_words = 15000\n",
    "(X_train, Y_train),(X_test, Y_test) = imdb.load_data(num_words= num_words)\n",
    "maxlen = 130\n",
    "X_train = pad_sequences(X_train, maxlen= maxlen)\n",
    "X_test= pad_sequences(X_test, maxlen= maxlen)"
   ]
  },
  {
   "cell_type": "code",
   "execution_count": 14,
   "id": "35efe3a1",
   "metadata": {},
   "outputs": [
    {
     "name": "stdout",
     "output_type": "stream",
     "text": [
      "130\n",
      "130\n",
      "130\n",
      "130\n",
      "130\n",
      "130\n",
      "130\n",
      "130\n",
      "130\n",
      "130\n"
     ]
    }
   ],
   "source": [
    "for i in X_train[0:10]:\n",
    "    print(len(i))"
   ]
  },
  {
   "cell_type": "code",
   "execution_count": 15,
   "id": "4e69faaf",
   "metadata": {},
   "outputs": [
    {
     "data": {
      "text/plain": [
       "array([   0,    0,    0,    0,    0,    0,    0,    0,    0,    0,    0,\n",
       "          0,    0,    0,    0,    0,    0,    0,    0,    0,    0,    0,\n",
       "          0,    0,    0,    0,    0,    0,    0,    0,    0,    0,    0,\n",
       "          0,    0,    0,    0,    0,    0,    0,    0,    0,    0,    0,\n",
       "          0,    0,    0,    0,    0,    0,    0,    0,    0,    0,    0,\n",
       "          0,    0,    0,    0,    0,    0,    0,    0,    0,    0,    0,\n",
       "          0,    0,    0,    0,    0,    0,    0,    0,    0,    0,    0,\n",
       "          0,    0,    0,    0,    0,    0,    0,    0,    0,    0,    1,\n",
       "        778,  128,   74,   12,  630,  163,   15,    4, 1766, 7982, 1051,\n",
       "          2,   32,   85,  156,   45,   40,  148,  139,  121,  664,  665,\n",
       "         10,   10, 1361,  173,    4,  749,    2,   16, 3804,    8,    4,\n",
       "        226,   65,   12,   43,  127,   24,    2,   10,   10])"
      ]
     },
     "execution_count": 15,
     "metadata": {},
     "output_type": "execute_result"
    }
   ],
   "source": [
    "X_train[5]"
   ]
  },
  {
   "cell_type": "code",
   "execution_count": 16,
   "id": "c289c46e",
   "metadata": {
    "scrolled": true
   },
   "outputs": [
    {
     "name": "stdout",
     "output_type": "stream",
     "text": [
      "! ! ! ! ! ! ! ! ! ! ! ! ! ! ! ! ! ! ! ! ! ! ! ! ! ! ! ! ! ! ! ! ! ! ! ! ! ! ! ! ! ! ! ! ! ! ! ! ! ! ! ! ! ! ! ! ! ! ! ! ! ! ! ! ! ! ! ! ! ! ! ! ! ! ! ! ! ! ! ! ! ! ! ! ! ! ! ! begins better than it ends funny that the russian submarine crew ! all other actors it's like those scenes where documentary shots br br spoiler part the message ! was contrary to the whole story it just does not ! br br\n",
      "0\n"
     ]
    }
   ],
   "source": [
    "decoded_review = whatItSay(5)"
   ]
  },
  {
   "cell_type": "markdown",
   "id": "81aa8f46",
   "metadata": {},
   "source": [
    "ünlemler bilinmeyen kelimeleri ifade etmektedir."
   ]
  },
  {
   "cell_type": "markdown",
   "id": "8dfe7ced",
   "metadata": {},
   "source": [
    "### RNN"
   ]
  },
  {
   "cell_type": "code",
   "execution_count": 19,
   "id": "75949308",
   "metadata": {},
   "outputs": [
    {
     "name": "stdout",
     "output_type": "stream",
     "text": [
      "Model: \"sequential_2\"\n",
      "_________________________________________________________________\n",
      " Layer (type)                Output Shape              Param #   \n",
      "=================================================================\n",
      " embedding (Embedding)       (None, 130, 32)           480000    \n",
      "                                                                 \n",
      " simple_rnn (SimpleRNN)      (None, 16)                784       \n",
      "                                                                 \n",
      " dense (Dense)               (None, 1)                 17        \n",
      "                                                                 \n",
      " activation (Activation)     (None, 1)                 0         \n",
      "                                                                 \n",
      "=================================================================\n",
      "Total params: 480,801\n",
      "Trainable params: 480,801\n",
      "Non-trainable params: 0\n",
      "_________________________________________________________________\n",
      "None\n"
     ]
    }
   ],
   "source": [
    "rnn = Sequential()\n",
    "rnn.add(Embedding(num_words, 32, input_length= len(X_train[0])))\n",
    "rnn.add(SimpleRNN(16, input_shape= (num_words, maxlen), return_sequences= False, activation= \"relu\"))\n",
    "rnn.add(Dense(1))\n",
    "rnn.add(Activation(\"sigmoid\")) # binary classification olduğu için sigmoid\n",
    "\n",
    "print(rnn.summary())\n",
    "rnn.compile(loss= \"binary_crossentropy\", optimizer=\"rmsprop\", metrics=[\"accuracy\"])"
   ]
  },
  {
   "cell_type": "code",
   "execution_count": 20,
   "id": "a96c9e33",
   "metadata": {},
   "outputs": [
    {
     "name": "stdout",
     "output_type": "stream",
     "text": [
      "Epoch 1/5\n",
      "196/196 [==============================] - 57s 265ms/step - loss: 0.6470 - accuracy: 0.6406 - val_loss: 0.5298 - val_accuracy: 0.7755\n",
      "Epoch 2/5\n",
      "196/196 [==============================] - 72s 366ms/step - loss: 0.4661 - accuracy: 0.8265 - val_loss: 0.4298 - val_accuracy: 0.8300\n",
      "Epoch 3/5\n",
      "196/196 [==============================] - 64s 325ms/step - loss: 0.3377 - accuracy: 0.8692 - val_loss: 0.4131 - val_accuracy: 0.8243\n",
      "Epoch 4/5\n",
      "196/196 [==============================] - 63s 323ms/step - loss: 0.2681 - accuracy: 0.8969 - val_loss: 0.3375 - val_accuracy: 0.8581\n",
      "Epoch 5/5\n",
      "196/196 [==============================] - 64s 324ms/step - loss: 0.2325 - accuracy: 0.9104 - val_loss: 0.3933 - val_accuracy: 0.8399\n"
     ]
    }
   ],
   "source": [
    "history= rnn.fit(X_train, \n",
    "                Y_train, \n",
    "                validation_data= (X_test, Y_test), \n",
    "                epochs= 5, \n",
    "                batch_size= 128, \n",
    "                verbose= 1)"
   ]
  },
  {
   "cell_type": "code",
   "execution_count": 21,
   "id": "781531bc",
   "metadata": {},
   "outputs": [
    {
     "name": "stdout",
     "output_type": "stream",
     "text": [
      "782/782 [==============================] - 7s 9ms/step - loss: 0.3933 - accuracy: 0.8399\n",
      "Accuracy: % 83.99199843406677\n"
     ]
    }
   ],
   "source": [
    "score= rnn.evaluate(X_test, Y_test)\n",
    "print(\"Accuracy: %\", score[1]*100)"
   ]
  },
  {
   "cell_type": "code",
   "execution_count": 22,
   "id": "df1cb745",
   "metadata": {},
   "outputs": [
    {
     "data": {
      "image/png": "[encoded data removed]",
      "text/plain": [
       "<Figure size 640x480 with 1 Axes>"
      ]
     },
     "metadata": {},
     "output_type": "display_data"
    }
   ],
   "source": [
    "plt.figure()\n",
    "plt.plot(history.history[\"accuracy\"], label=\"train acc\")\n",
    "plt.plot(history.history[\"val_accuracy\"], label= \"test acc\")\n",
    "plt.title(\"Acc\")\n",
    "plt.ylabel(\"Acc\")\n",
    "plt.xlabel(\"Epochs\")\n",
    "plt.legend()\n",
    "plt.show()"
   ]
  },
  {
   "cell_type": "code",
   "execution_count": 23,
   "id": "85b3aad0",
   "metadata": {},
   "outputs": [
    {
     "data": {
      "image/png": "[encoded data removed]",
      "text/plain": [
       "<Figure size 640x480 with 1 Axes>"
      ]
     },
     "metadata": {},
     "output_type": "display_data"
    }
   ],
   "source": [
    "plt.figure()\n",
    "plt.plot(history.history[\"loss\"], label=\"train loss\")\n",
    "plt.plot(history.history[\"val_loss\"], label= \"test loss\")\n",
    "plt.title(\"Loss\")\n",
    "plt.ylabel(\"Loss\")\n",
    "plt.xlabel(\"Epochs\")\n",
    "plt.legend()\n",
    "plt.show()"
   ]
  },
  {
   "cell_type": "code",
   "execution_count": null,
   "id": "fa20f3a8",
   "metadata": {},
   "outputs": [],
   "source": []
  }
 ],
 "metadata": {
  "kernelspec": {
   "display_name": "Python 3 (ipykernel)",
   "language": "python",
   "name": "python3"
  },
  "language_info": {
   "codemirror_mode": {
    "name": "ipython",
    "version": 3
   },
   "file_extension": ".py",
   "mimetype": "text/x-python",
   "name": "python",
   "nbconvert_exporter": "python",
   "pygments_lexer": "ipython3",
   "version": "3.9.7"
  }
 },
 "nbformat": 4,
 "nbformat_minor": 5
}
